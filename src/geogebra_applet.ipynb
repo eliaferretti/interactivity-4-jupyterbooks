{
 "cells": [
  {
   "cell_type": "markdown",
   "metadata": {},
   "source": [
    "# **GeoGebra**"
   ]
  },
  {
   "cell_type": "code",
   "execution_count": null,
   "metadata": {
    "tags": [
     "remove-input"
    ]
   },
   "outputs": [],
   "source": [
    "%%HTML\n",
    "\n",
    "<!DOCTYPE html>\n",
    "<html>\n",
    "<head>\n",
    "<meta name=viewport content=\"width=device-width,initial-scale=1\">\n",
    "<meta charset=\"utf-8\"/>\n",
    "<script src=\"https://cdn.geogebra.org/apps/deployggb.js\"></script>\n",
    "\n",
    "</head>\n",
    "<body>\n",
    "<div id=\"ggbApplet\"></div>\n",
    "\n",
    "<script>\n",
    "var parameters = {\n",
    "\"id\": \"ggbApplet\",\n",
    "\"width\":\"100%\",\n",
    "// \"height\":695,\n",
    "\"showMenuBar\":false,\n",
    "\"showAlgebraInput\":false,\n",
    "\"showToolBar\":false,\n",
    "\"customToolBar\":\"0 39 59 || 1 501 67 , 5 19 , 72 | 2 15 45 , 18 65 , 7 37 | 4 3 8 9 , 13 44 , 58 , 47 || 16 51 64 , 70 | 10 34 53 11 , 24  20 22 , 21 23 | 55 56 57 , 12 || 36 46 , 38 49 50 , 71 | 30 29 54 32 31 33 | 17 26 62 , 14 66 68 | 25 52 60 61 || 40 41 42 , 27 28 35 , 6\",\n",
    "\"showToolBarHelp\":false,\n",
    "\"showResetIcon\":false,\n",
    "\"enableLabelDrags\":false,\n",
    "\"enableShiftDragZoom\":false,\n",
    "\"enableRightClick\":false,\n",
    "\"errorDialogsActive\":false,\n",
    "\"useBrowserForJS\":false,\n",
    "\"allowStyleBar\":false,\n",
    "\"preventFocus\":false,\n",
    "\"showZoomButtons\":false,\n",
    "\"capturingThreshold\":3,\n",
    "// add code here to run when the applet starts\n",
    "\"appletOnLoad\":function(api){ /* api.evalCommand('Segment((1,2),(3,4))');*/ },\n",
    "\"showFullscreenButton\":false,\n",
    "// adjust \"scale\" this to avoid the presence of sliders\n",
    "\"scale\":0.45,\n",
    "\"disableAutoScale\":false,\n",
    "\"allowUpscale\":false,\n",
    "\"clickToLoad\":false,\n",
    "\"appName\":\"classic\",\n",
    "\"buttonRounding\":0.7,\n",
    "\"buttonShadows\":false,\n",
    "\"language\":\"en-GB\",\n",
    "// use this instead of ggbBase64 to load a material from geogebra.org\n",
    "// \"material_id\":\"RHYH3UQ8\",\n",
    "// use this instead of ggbBase64 to load a .ggb file\n",
    "// \"filename\":\"myfile.ggb\",\n",
    "\"ggbBase64\":\"UEsDBBQAAAAIAOOBV1gdud/UJwUAADAmAAAXAAAAZ2VvZ2VicmFfZGVmYXVsdHMyZC54bWztWl9z4jYQf+59Co2e2oeAbTCQTJyb3M10mplc7qbJdPoqjDBqhORacoB8+q4kY5sAuYQ/CXSSh4iVpbX291utVpLPP0/HHD3QTDEpIuw3PIyoiOWAiSTCuR6e9PDni0/nCZUJ7WcEDWU2JjrCoWlZ9gsbQaMXdEwdSdMIx5woxWKMUk606RLhCUZoqtiZkDdkTFVKYnobj+iYXMuYaKtlpHV61mxOJpPG/H0NmSVNUKmaUzVoJoluQIkRDFqoCBc/zkDvQu9Jy/YLPM9v/v3t2r3nhAmliYgpRmDQgA5JzrWCn5TTMRUa6VlKI5xKJjRGnPQpj/API6Ffhxmlv2FUdAKcPHzx6ZdzNZITJPv/0BjqdJaD6qKfFZqmDTz+KrnMUBbhbhcjgNUU/QgHYQhw8XREIuy5xpzMaIYeCGgoakiuZWz729oh4apQbN/0TQ6oe9Iu2gsG/ACcSGkKTHgNHyOVUjqAUePCRvgBxMwsxzWN1vRb9lhoDOu1esaL6mJgsZTZQKFphG/IDUazonx0JTQ5bxbAvgziAU2pGECjBZz9jXDu9CzOpgCcTXHAMBca3xXmzpHAvGuQYR7vAeXvoo5tsBG2fgDBAUyy5UewWMD3SvxJExh1HeXW8aB8FBgv+nB7I3QhGwB74P/hIWvBchgq8x9SFjlOOZ2+LfCciQrEayuUoAeb5Rh10E069h4hA967CnRjrYNPj1h8L6iCHA7couxkfvzBBrA8WWUSkkSmAU+/23Ma6L9igTQGnDFoszURw1zExqoS3K959lBno9X23oOPSufGM2BPZKzHUtHESCUut3O5cu3N0rr/tWvLXHOj9kpo2FUBJDAQtTTye0rTO1D1XdxlRCiztXrqKLDJyepRqkC9mECiiHrLj7aYPRmZPcd2+MH23tjeQcwTDyQruajztllOtXbVb4AjvN3Cv5K6VywAdSC2T3/ewIH35r5bOVFns8kfeO3V6DW6B+xED2CerGD4qxCrJOIjpVuKhCsycVi/qGJE7GBfw2dJbU7/mMslI13HyPZmrOe0htbC1jNsWVpDUPfExX3P/fntU8/3O3CCcLAebxBe2MQYiF1FhbHL9vaJ8ZHNm/V4xlKYY/P5JsRJJZLtj/jxyi0hZQkVLixDCPGsjhkUoPnRSObGYupbeQYFPH00BVTb7mBXxqbo0vW4dA0vA1e0XNF2RVjg9xNuUwhutVz5yQLR3mxjdEyxZP+c7yy3PiTnEfmYZrXQcDOXS98JXXAAG/LF8ynF2QDIHjOA8wRwHhNYS01e3leS5xqu4eB2S1TXcM7hJmygRyYRg/EN2dQQ69BDI5mxRyl0CRYy/nrJ7YXdwpHFKqKD5/LMF8WtdT693oNrvrpdeCYi4dVkvHRSxYA76reNlo8JnycGBmJ56TSCXsvvhS2v63dPw17nhTz5vYon92A7mtbNR6BveT6SLK4OSyHJXcMk8LZTLovVxvO77bAVnAahf3rahh8w9l3vBn8vK6qdzSGeB1oPWGq6t6M+LuNcVQfYTioRApfcKDU+2I0zyaeMM5LNlt+0N4g1nVYJw50Vap8hHGBCuN4UgD2phnblpNpdvzNmyABFAd+IwDmCfQkTX0h8n2QyF4Vr10awG9OLxecQd1h9KTmFvfDcrC9zuXbDvLTyrwOoWMGfP3pxt/qmAIxaMO5dT0D4HCe+78vpwnr1k3syVU2CayvUrn5XTIKXGLpuUTp5d2/Y5IjulZeWK5OUOgHN2hdSzfnnWBf/AVBLAwQUAAAACADjgVdY8PNwzHkDAABHEQAAFwAAAGdlb2dlYnJhX2RlZmF1bHRzM2QueG1s7ZjNbts4EIDP26cgeK/+LClREKUwuoddoC2y6GWvjETb3JVJlaQtK6/Wd+gzdchhErlN2jpwU7SoDx7+aGbIb0Zj0ucvduuObLk2QsmaplFCCZeNaoVc1nRjF89P6YuLZ+dLrpb8SjOyUHrNbE0L9+StXhFl0WlWujHW9zVtOmaMaCjpO2adSk0HSsjOiDOp3rA1Nz1r+NtmxdfslWqY9VZW1vZncTwMQ3TjL1J6GYNJE+9MGy+XNgJJCSxampqGxhnY3dMeZl4vS5I0/vf1K/TzXEhjmWw4JbChli/YprMGmrzjay4tsWPPYelKimYGPjp2xbua/i0t7JI3bomk2egt6Aflms7SIqEXz/44b5TSrSFqV1NgoEYU1ygGAAuwcG6Lc1ucG3BwwMHBD8bOoFmpgair/8BxTa3egNewIN/xz8D0S9UpTXRNM/AAEUsTkFcgqwxC0fUrBhajNMFPmldJmpZphvodG7kmWwZGg1e2sarxJv3ognUm+PLOX6uW40wenpcCssGRMZZD3MG56TlvfQt5wrYgCUafT1N7QvK3duw4sSvR/C+5gXgWEyXX+Eu0LXdpiTr8nUQV475r2jMNqWQ1JBrOiyWXWyCmtCG7xC9iBAHWrl3Ppecu9f0RBMxeOwHDXh12osWOzFFjjg/OMxQzFDmKIhA7j0PyfJZGbCfM7M/boM1Dd5I5ycxnzqGBBvdAEr4hyu51CzH+XhGF5PlRMSWhzWHXH95/Gbd/MRumLTeCycnr+9JNfEq+/BnIf0/uD4ME+5JP+F36/h4/KKuP4ldVHmCWggSEXt6WqOJYGBfM/XYFEw9WvvuIBVAPZWoo8ViwsV6HGv7VYtCrblzxVit5x3UydId2FtA+5k06NBxpMfPxKPAXY5LRUR6oFVWZ5GV+tNg8NsUPIjvXzUqsecvZPlqI/VOhzVL8Nc5PPFonfg22lyNUZAHVYcr16VLWlwxYfIVcs18mZy+1MOt9qukTUi2xMCPVCno/IVXJ7e0+37j2tKoWv6vqISzfbVjrT2Bhq//c9KdMMUGPWRrLvHKfkzItTtMcbjRHAnSMc6lY951ohP2mm8a99ww3iJeJEcU1iODt0KsHmZcoTlCcoqi+ehIxG72Am/d9J+UwtR/k/HFBBr17z8rRybdm/Z3hJzktT5W+eFqOJ38cxDf/Ulx8BFBLAwQUAAAACADjgVdYRczeXRoAAAAYAAAAFgAAAGdlb2dlYnJhX2phdmFzY3JpcHQuanNLK81LLsnMz1NIT0/yz/PMyyzR0FSoruUCAFBLAwQUAAAACADjgVdYvMakZB4WAAAA2gAADAAAAGdlb2dlYnJhLnhtbO1d65LiRrL+7X2KCk6Eo/usoSUhCWR3e6OnPb7OjMdz85754xAgQB5AGIluemIe4OxT7PlxInafy0+yX1ZJoAsXlRDd0M3E0BKiVJK+LzMrKyurdP632XDArp2J73qji4paUyrMGbW9jjvqXVSmQbfarPzt67+c9xyv57QmNut6k6EdXFQMKjk/z6hptaZm0jF7PL6otAe277vtChsP7IBOuajcVJjbQUm9a6mm3awarY5R1Tstu9qyjE611a0biqnYdrerVhib+e6XI++FPXT8sd12Xrf7ztB+5rXtgF+vHwTjL8/Obm5uatGd1bxJ7wwX989mfues12vVsK0wPN7Iv6iEO1+i3sTZN3V+nqYo6tnfnz8T16m6Iz+wR22nwujRp+7Xf/ns/MYddbwbduN2gj6AaipmhfUdt9cHGKZlVNgZlRoDkbHTDtxrx8e5sa/86YPhuMKL2SP6/TOxxwbzB6uwjnvtdpzJRUWpqaZqNutao2GZWl1vNPQK8yauMwrCwgCKX/Qsqu782nVuRL20xy+JkwLPG7RsqpJ9+sQ0RVPYF7RRxUbDxjTFT4o4ptTFhn7CRhcbQ5TRxem6KKqLMrooo9chFa7vtgbORaVrD3xg6I66ExA5/+4HtwOH3094YPH46hd4Jt/9iMJ1BcIkQMdxRfmCPiY+Ov1Azx17SJw1v2owmUpeNLqkqpkgNe81ta2eFDiJi2oWKgrs1kXl8tl3T5+8uszegWYsv4NmjFqUU9knho0mNnVGbGEHrNFGD7+CaNo0+EblEoGvTXHUoq/AYBsK52gaMQLxBPw//2Tpu/tL1qXoEzK13RXNhCbePcYaxKWMa+rN3NfUFatx1zA3cGiJwRNbqAjflkO+FTdR6+/KUEnLY7fFVGZAYw2mWmR+SR01phpMx5EmjjRYnY4Zqs7qjIqodcZtrM4118Qv9DP+GobCVLLFeDAGY46H1Mh8GwYzUKxB55JNMKHcOEvBh0rjjvCp07F6HR9+rK7jQwbdQEWGqAb3YdRNvmfwv2QrDFzFIFgZ/wnHdAuXowNGQ2V13Am+NxSGelE97pg/DZoO+q8y0Wo0mNZkvFZev7KdSc0toednUTt5HlLC/D6VDZuOwBnCZcC94xG4RRRcgSTcpCCsQYhGhAHgJjNpG7JGnDUTrBnEKVEXcWfSUeBDZpdx2AWJmh7xiH3OJLGcYJJjrsdgp/YYoOO4gB2X1+LAayYzqT7IEtp5k/jTUKXGwJfJVWIFKfDfPN+do9t3BvDtQtw5kO5oPA0S4LWH5Obw3cBLle547Q9P5mCHvzi2Dw9qUQzezMJpEt5Nwqf67Hxgt5wB/NPXJAqMXdsDak75FbreKGDz1pyOnZ9x/+3cmbYHbse1R+9AfeQqvZgOW84EModdjx6RV0Kns7mjB9lfOHqG1RRl2p436by+9SEqbPbemeDshgkDeyv2NcuCMLZtEmQyXbfhvm7VrPi/pimqc65fO0GAZ/KZPXMgfALB3oQ7jfP9H/wn3gBHQrTGnjsKruxxMJ1wdx0+xYTu83LUGzgcHU4bfNr2h5Y3ey38DTwO1fXmdoxvirh+q3flDbwJg1ppBnxZVMa38Epoy8vQjc1L4ZlQBn9RIqyDKp3/rpIuowTfogxteSkQJ24tfFDcn3hKLazGnrk+N5moPC5YnHVykKcjN3gWfQnc9ofFk1J5wWkEYbLKsEgJVdI9w1X3g7/zUrT3P/O9N30nsMmBhwWFxDQaBv5qVpPLzvlZShTPPziTkTMQUjWCEEy9qS+kWvDMLzj1nZd20L8cdV45PSjkS5vMYoDbEkUXt9Zx2u4QJ4rjIew2icRbPKY42nF6EydCZ8D7T4IU/is99nji2B2/7ziQ+lAvhMwvinHCzs+i2z+HEztweIs3dGEwwN/QngkeAwemQJT32xN3TKLOWjDdH5yFOAM6qmF+gEoDER+PBuX3RmAmIFauvFHbRofKHnUY9q+dGXvmjHzHZ+h9ToO+B/l74w3Zr6ilz06C32/4jh2wocM6XsDa3vAUl7MDVMa7Yzfe5AN/1jfOLGB2y7umXxgEgoTlOb6yoI+PO2Zel+9+/sfUC776ufU77JLYZ/Zkgv5h4LFhVN7jP9fYvAKusGwE4jphDexbrz31P7dhZ7+KDqGKdh+EiXO6aN8GbOCMekG/9vl/zeyv5KujwtwywDR2cF/iGVCnH7+Yx2xAI7Cl32qcAWfgDNHlZAG3F/ySc8255OiRioTPmtKsmPzi96XGg5sZezDuk8KEJsK+JaM8F7HQ4j/3cOvxo/YIcs4FI5SvGhdchyQIe+KGsYMYxC23j7Hb4c9BBjHRfIijKQkPBd9nkOWqSsacW9qPoV5AnwVChNUMaoPAB24pROAKDdwM93aifMFuTy5PIXcJIDchfJVFOPJ7RIGF3scRVjVhxPl2O5QLIrUWJyjgkLSXRPei8pI/8cKdsJWLyuwSNjt8rmkQHY1Jt6gyrGgDiPHT1gts2Wj+3O36TiAkB1gAkWrYmhYQaerY7EKm0S/FjaH2fCL9JBJplZ0x8eekOjuJgXx6esqqcJrDXyD1p6dfMEVW9p8Uk/2SrEtBNM2amfiH/q8MuO8jcGcnT4DZCd+y/xa24xSIcjglgXz/cICswp3MhySXxwjNjIAWEEdR4f3ZDzw5WVR9B1hLWgDh9iwk9bIInGEld4tnWYBFfsAKyJLt2zs8lzdJNXARhrZKblS6oZuub96uRY0RStPt3TAauCkE4KI/F/TRccI4BPpJFOsKu5d853u303F4DCHdkeDhHIwX2ZPA8dElCnvgAb5zt0DIWAjWGhcj7IusouCVfZvCH44ZQS+UOg1/az38E9QWYdvKjz186w4PpvBOpXgmeDpQH/b5AI66wv7833/BwMcNVfjLHpHn/DFKUOcOxwO37YbsAMQBOSY/jKhrSkEbdOAyndkPjjOm+MPPozcTe+TTAGG6F7ugWfhNMFGgmazgWqJfOz06niIbYypE9lWGaHs90X5YW0SmfWCKdkdccXWNmcuO07Wng/AqzigeM0j8lFZlMqpEcn2DNq8leblGt+WIbpej1T3obqjPp0flLlNghFFQV1qFrNPyNNUTRw/l5CTcuU06h9Rx4QRWU4SRJy76M5LOztPD7sZLeN0Ryiah/FQaqG8PsquyFqRNnggEk9utjM0SEdBcXohTohfy+MxRWtzBJxG5wdWYXzbFZ0vwGUnpgs/vZGJW3xVTBEoyAFe0AVm0kexnil5mNRyXKlVNVAzx8MppRI0AjsZD1tiTH4Z2jwYJw57m+yI9TVFH3o5mAf0oo38fRgd3gbtUSCpH1zXkhISci3RCyK+leq7XD9NuSXdwBaTr2l7pDm7oDmcZ6uZvVrqbjNAj7fAsOIKikx+aVjFkAmzmbFUDYgvmeBAiwdwPMg3ID3fagJTrb1rCOG3qB2aFHu4nQfc0A10/v9D3JYQ+Z+cv6u+JLuD9WqxoGOm+NSe0bsIV2BjXWRnAe5+hupef6l7p3fwj06ts5BIvhIgXaT/yRrIn6Od6naD/Jxkj+dNBGskX9gsOKd8CRNpu9KR/XHjRPxXxon881BBGhFZxhxfQkaxxyUrI2o2Us3uz/86ujwfgKn85QOoT0orSil/I4ki7wz8WkHiJEHHWPejIhYc7pTD55z/+f696LQcT/A2dbqHQmxoQiZ6Rm99zcI89o1J7Rutanmf3GhNOp2TtPMdQOMZiZKNA5tzt0sy55zJe0fN7b+rvCXRKhcs3zoFmSHhTGg0WIdOb/XU+0lfEu3pxiOMeSk1P/cvvaD0dDNwxni8pvM+EaX6OjUagpMX4w3oxRmNLk45DyD5s30rnGq1dNtdhTgQSOKWo6LqzyO1aUL7U4M81oYjBx3wWB5nz5J+CSiBLCoANKv1IG5rJPQMTVRy4xZY4xYaO8/OhnRN3xi5RVjMszFRWdKve1BrYgRReomg9cVC3IBuX4LRqqDXV0lTLrKuYW9OkWYmXdX6BS11sjMKRM5E1zEVouRn8WcYM/lywjd+LEFouJVzpG3GcEsj9nt83+v2YJZMnoyn0X4u6r9ne6CA/RYNj4OsOeJbutV5i0lWKbd7iJXPWUGhDOziaDp1JrCUUp1A9uNdpCKVRM1VLx8ISlqrXzSactrxciTZtvYP0zeZ0m2WJNsVTbL65d6d1O3tda2LitK7N/+bKJlkb5vgmG+bIM3cmE+zINXNGwmIcYx4FYh5aLS4c0NhExmSzlhQeLntF06EXQpIQHh6ry9e8jEoUlmPe5GoXIuqvFsxUGgnSuWuXoPp7GTf5+0M1vBh0DKcQiEFIXXoMEo0cAcjhSgA4zq8rYkGoo67sTlfQ4USXXKsrmm5qhmqYhlOlFYd4ck262RUxZQQ2mlbDMiy1WTcbWHtrs8PzcjG+9n2RCNDLg1WjJRhuNdwGJJdr1Uep4baPj02xpIfZXuZ0RSkotCxmn9GBXyIdqPL072+knfhfDjEMSjkshT34lY3KLxnx/yN/o/LH0VsvP0nJyLjgmxUi9KXjkyIKaMWqHtj+68ZuVGNFD2WSX0FEm7N9kh+1AakZXverOPsS+4rPpKhu1JycMc9ssh8P8eejfNPc/QL+wDHMuascaLhxRHh2BOeVTNf01SGazELZfXwCwW8QjagP8qrwTBnUcqA9ke0z/eYwkvBxUUsIH9eh3B2QTYtblDX+fH+mptg8F+C77UDJygBmljP7t1AQ8rQRVHh7x2DPWdvHcbCsRXs970tiwdS/spM6HxgqnmHz+v6sWijvu1mfa80jv3lciXNVpGGZitlATomJ7BID622K6aZYc1XDuwW0htLUVdU0VmV5rYHy7eODsmGqiJkCMsPUFVppgSLlHEpNadYbTbWpYpunqb1yJ+2BczkRq2osbDZUnGz2G5Ht9Ta7aMcm083zvcZoYhYLdywz4Nu1urvsy+XP9tqPyEgmbYzSw0T2WCJtjHp/lC62OmsMP1GWGG0oK0xVaw0oZsNSsEZ4w2hS7yGWFkbJY8vSwrLNxptkxIUWfntD7cUtbSSbjKiuA+xEbGsKM7i+zeL6VuCKjSSuUV2Hies2dnGJm5PF9XUx/+ZwQZVIG17ZlEQwUoMyl1VqViIlzuTCyDcudMq2y0gc25b7aFtMjORCWzUNY7qUkBtrWsi9zpFyvDzT6m1S4NIyNpTLtBoekuuyx5JU2np0NRXvQdFNRTUtvD5HoVx1CmfrNcNCdgDenmQ1lSbee1ZEdMjrJed3hei0NpmntPDQCUfx2TPx0dQ60k0adQ1OWCPMMqrp8HQpG8XA+3EMJKJss8oUX8AyITjvZALk7w5y/vuGRUKyTtavmXWgycXC3C1aWPudfK7xr4foZYVxpHDtLdn46jshb79mV6mTia9S4V0Yqb0Yj9uTaGtVKjd05XqE2fklPRmmqfCDZfqgA+sIJfacZK9z/iaHFOQlvMQhfrUyluDL4ZPsewpklpJLKMt85DaGGI+vyOcLUXUHOoS7CsmSEojCUUICKLNCmIx1o8J3kV2asnaR8/Kojd7ymTArMrnTE2OKJAUkDOYq8ZluEp/0OxtKlaB9EgjppIA4vjJz43I4/k/KNaxU3SF6/rs1qmFyHoGTmTUuY1Sp8C4yZlJGNPMuoGPe5kbr2kgdFZJSxaBdw0SEo1m38H5yvKacZtbwecSlrOTYlZEeKnzscOzzUo6FZp1+kJEBKlx2+lZaCI4mYkN8YclLMBet8JIXsYVhuCv5MBzVe4DN8VZxuFBl6NEz63/IqAoV3nEP5pEOH2QicTlfXbVyusuy7sZQhmsqvOOm8WgVo9X6i04oXre0iVSz9iDyD+tKrYEkMMOqa5ah6FpDJDBpNU03DKNZx4Ruy9QsVcCb+52V8e4gUC3+3soDjrCtgHbbV1kStHzVmaXBkdD25Q6ObJyDsm+LiBV8p2UEVtqOrBD0HCGPbxcyzpdeIjGXfgvX4Yr3Wvhy2InAmQWNOYTiFfp81gq76tsTu432wvUDt+2Ln3iFSSiphgVMYXX3tyLe0jSwrofb9fEo3TmvPqB+TsjVk/9AIP1EE/ywJ0Q7FNqYSMfeiYuoQFOsGJAT7mYK7leOPWAc8/wYUx1bujhiJbJ4nH2xpt2/Y27OYqWyu14UYhdUhlWvoDJ3GitxYKV4fOdOgqk8lVTN3axOGJu4TQTfc2rm/hCpKikmP/XdTwKRT33vU34qeUWlcckDBatjtzy2GysS/mi3fK7ZtN7+/4XfElU8GI5xhgTH6jKOL2QJplq2jbgJw/vnP/65iuHQ+vIS1SVFHoMlliNXW6rAhIgkv1RReStlrOc3o+SPVjf1tAOKvHh0JjoSxFEVR4eodB5zz5fiJBgpHjuuQEzrSjBJlex4WDRn67pUCnIMuGYb5azwPBgJWRHXXyEhZlZCLuTEg2rYmXhs3zQ/Ul7TIYSuQJUMAG2lGJaKH8gyvHCPuTrS12VUP1Ye07GJiEBFgr8SYhO5+KODD7l/I8dcOhqhCAGPmmAZBSwlIvGQowtSzGjp6MILT4SI2Alm29qDgTNgGL30T/MzxKvckqF4nOCfy/ToEXi3clGiBIlvxxO31w8ktGpXQ9JLuibrw38Phj6pzkna8+x78DzFLi23RK/qOMWOOBLSumTgKMOrlD96uKBjIYgCPft0x76TBH1ugwohL9XlfwDIF1jG6bKUgeWDyqTQalhOp24YetPAZOSGFr6kD2uy6lazoZtWvWE1tGb+IburxTKT4t0+v2kFMvcOdpHJKKBXFL5w3D+2VCcBWDwR5WCBXCWZuWfNidYmAjJsxSh+Em/Fvivaii3Btfy5CMkyh26Zi7WISQJ5ACzdIoLEgi3ikcWiLEo5kxuU8H0x+nZO3r29v3CvVRK9wHVkIh25GJ31u6DzUTKGwqtNKE25iE99LEaecSRvR7YThVeTNytqO/Wj7bwPMlHlDsg0y0miilP4AMPRxcMCT+95ItndRwUWubqWpZiWPGTfPTrI6jV4uRsxy7P0H4kbnytBIKbnSriyC//RCXv2wnWo4B5MxCtrHT+zJtZ9VOs1o25iKUgr+pczLzrRJlx5SOaasWfOyP+SIf4rnRBkHZMByhoxkcvmwjlreJRM21HKyc47Zs2Wx29yaCbBr4b8HZ49EOorvkrkSB/T9x6oxCTDXhnLTujJ2IQdxrseT5qQHIPJWFfWpsvQt3V865iCIsleMnQC9tr2tROnzx7dyuTMH7O8yqIGHnM6DlKNB0ISAckiIZHmIa9osS8hkeWznzPh/1Ki/40jYTuK/mPFtbUDNj8VIwzVHqOOO2IsGSbuZsZrUh21IuxJxIwPF/z4Aks5sH9u96K0G8oMwdrWlOZYIPeGKjrAlcfwWr/kyn1m+H52ubktCeF9nhriADQFJbaEFmJlV/eBus3zXMjcGfigZ556RokZW+lAwdyzh6AESQd3iRIgKbKQFpTg2OYbnl296sVDG8gtpCVRZCD0ebfSkyWRgf3XE6WWWPEXfwWKcnqSHPxYoif1gnpSwjDIg+k1bBJwjCWOfNwCH0uj7z3H6zmtif31fwBQSwECFAAUAAAACADjgVdYHbnf1CcFAAAwJgAAFwAAAAAAAAAAAAAAAAAAAAAAZ2VvZ2VicmFfZGVmYXVsdHMyZC54bWxQSwECFAAUAAAACADjgVdY8PNwzHkDAABHEQAAFwAAAAAAAAAAAAAAAABcBQAAZ2VvZ2VicmFfZGVmYXVsdHMzZC54bWxQSwECFAAUAAAACADjgVdYRczeXRoAAAAYAAAAFgAAAAAAAAAAAAAAAAAKCQAAZ2VvZ2VicmFfamF2YXNjcmlwdC5qc1BLAQIUABQAAAAIAOOBV1i8xqRkHhYAAADaAAAMAAAAAAAAAAAAAAAAAFgJAABnZW9nZWJyYS54bWxQSwUGAAAAAAQABAAIAQAAoB8AAAAA\",\n",
    "};\n",
    "// is3D=is 3D applet using 3D view, AV=Algebra View, SV=Spreadsheet View, CV=CAS View, EV2=Graphics View 2, CP=Construction Protocol, PC=Probability Calculator DA=Data Analysis, FI=Function Inspector, macro=Macros\n",
    "var views = {'is3D': 0,'AV': 0,'SV': 0,'CV': 0,'EV2': 0,'CP': 0,'PC': 0,'DA': 0,'FI': 0,'macro': 0};\n",
    "var applet = new GGBApplet(parameters, '5.0', views);\n",
    "window.onload = function() {applet.inject('ggbApplet')};\n",
    "applet.setPreviewImage('data:image/gif;base64,R0lGODlhAQABAAAAADs=','https://www.geogebra.org/images/GeoGebra_loading.png','https://www.geogebra.org/images/applet_play.png');\n",
    "</script>\n",
    "</body>\n",
    "</html>\n"
   ]
  }
 ],
 "metadata": {
  "language_info": {
   "name": "python"
  }
 },
 "nbformat": 4,
 "nbformat_minor": 2
}
